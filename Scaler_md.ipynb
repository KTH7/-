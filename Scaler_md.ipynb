{
 "cells": [
  {
   "cell_type": "markdown",
   "metadata": {},
   "source": [
    "# StandardScaler\n",
    "\n",
    "## [`sklearn.preprocessing.StandardScaler`]\n",
    "#####  예시 )scaler =  StandardScaler() (메소드체이닝(chaining)을 사용하여 fit과 transform을 연달아 호출합니다)\n",
    "##### X_scaled = scaler.fit(X_train).transform(X_train)\n",
    "\n",
    "\n",
    "###  사이킷런에서 제공하는 표준화를 위한 클래스이며, 개별 변수를 평균이 0이고 분산이 1인 가우시안 정규 분포를 가질 수 있도록 값을 변환해준다\n",
    "\n",
    "## 사용법 -메소드 중요\n",
    "1.  데이터셋을 불러온다.\n",
    "2.  StandardScaler를 선언하여 StandardScaler() 메소드를 사용한다.\n",
    "3.  **fit()** 메소드로 데이터 분포가 정규분포를 만족하도록 모델을 **학습**시킨다.\n",
    "4.  **transform()** 메소드로 정규 분포에 따르는 데이터 값을 **ndarray** 형식으로 받는다.\n",
    "5.  반환 받은 ndarray 데이터를 pandas의 DataFrame() 메소드를 사용하여 DataFrame 형식으로 변환한다.\n",
    "\n",
    "\n",
    "# MinMaxScaler\n",
    "## [`sklearn.preprocessing.StandardScaler`]\n",
    "**예시)scaler=MinMaxScaler()**\n",
    "\t\t**scaler.fit(iris_df))**\n",
    "\t\t**iris_scaled=scaler.transform(iris_df)**\n",
    "\n",
    "\n",
    "###   Sklrean(사이킷런)에서 제공하는 정규화를 위한 클래스이며, 데이터 값을 0과 1 사이의 범위 값으로 변환한다. 음수 값이 있으면 -1에서 1 사이의 범위 값으로 변환한다.\n",
    "\n",
    "## 사용법 \n",
    "1.  데이터셋을 불러온다.\n",
    "2.  MinMaxScaler를 선언하여 MinMaxScaler() 메소드를 사용한다.\n",
    "3.  ** fit()** 메소드로 데이터 범위가 [0, 1]이 되도록 최솟값은 0, 최댓값은 1을 갖도록 모델을 학습시킨다.\n",
    "4.  **transform()** 메소드로 [0, 1] 범위에 따르도록 데이터 값을 ndarray 형식으로 받는다.\n",
    "5.  반환 받은 ndarray 데이터를 pandas의 DataFrame() 메소드를 사용하여 DataFrame 형식으로 변환한다."
   ]
  }
 ],
 "metadata": {
  "language_info": {
   "name": "python"
  },
  "orig_nbformat": 4
 },
 "nbformat": 4,
 "nbformat_minor": 2
}
